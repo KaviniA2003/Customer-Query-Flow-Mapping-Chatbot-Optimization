# ------------------------------------------------------------
# 🤖 Customer Query Flow Mapping - Step 1: Log Analysis
# ------------------------------------------------------------

# ✅ 1. Import Libraries
import pandas as pd
import matplotlib.pyplot as plt
import seaborn as sns

# 🖼️ Style
sns.set(style="whitegrid")

# ✅ 2. Load Dataset
try:
    from google.colab import files
    uploaded = files.upload()  
    df = pd.read_csv(list(uploaded.keys())[0], on_bad_lines='skip')
except FileNotFoundError:
    try:
        df = pd.read_csv("../data/chat_logs.csv", on_bad_lines='skip')  # For local run
    except FileNotFoundError:
        print("Error: chat_logs.csv not found. Please upload the file or ensure it exists in the correct local path.")
        df = pd.DataFrame() 


# ✅ 3. Preview Data
if not df.empty:
  display(df.head())

  # ✅ 4. Basic Info
  print("🧾 Total Records:", len(df))
  print("🧍 Unique Sessions:", df['session_id'].nunique())
  print("\n🎯 Top 10 Intents:")
  print(df['intent'].value_counts().head(10))

  # ✅ 5. Resolution Stats
  resolved_rate = (df['resolved'] == True).mean() * 100
  print(f"\n✅ Resolved Queries: {resolved_rate:.2f}%")
  print(f"❌ Unresolved Queries: {100 - resolved_rate:.2f}%")

  # ✅ 6. Fallback Detection
  fallback_keywords = ["sorry", "don’t understand", "didn’t get that", "anything else"]
  fallback_mask = df['bot_reply'].str.contains('|'.join(fallback_keywords), case=False, na=False)
  fallbacks = df[fallback_mask]

  print(f"\n⚠️ Fallback Messages: {len(fallbacks)} ({len(fallbacks)/len(df)*100:.2f}%)")

  # ✅ 7. Top Intents with Fallbacks
  print("\n🚫 Top Intents with Fallbacks:")
  print(fallbacks['intent'].value_counts().head())

  # ✅ 8. Export fallback examples
  fallbacks[['session_id', 'user_msg', 'bot_reply']].to_csv("fallback_examples.csv", index=False)
  print("📁 Saved fallback_examples.csv")

  # ✅ 9. Plot: Intent Distribution
  plt.figure(figsize=(10, 6))
  df['intent'].value_counts().head(10).plot(kind='barh', color='cornflowerblue')
  plt.title("Top 10 Intents")
  plt.xlabel("Frequency")
  plt.gca().invert_yaxis()
  plt.tight_layout()
  plt.show()

  # ✅ 10. Plot: Resolution Status
  plt.figure(figsize=(6, 4))
  df['resolved'].value_counts().plot.pie(
      autopct='%1.1f%%', startangle=90, labels=["Resolved", "Unresolved"],
      colors=["mediumseagreen", "salmon"], wedgeprops=dict(width=0.5)
  )
  plt.title("Query Resolution Rate")
  plt.ylabel("")
  plt.show()

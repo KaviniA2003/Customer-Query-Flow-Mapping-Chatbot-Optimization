# ------------------------------------------------------------
# 🤖 Customer Query Flow Mapping - Step 2: Intent Model Training
# ------------------------------------------------------------

# ✅ 1. Import Required Libraries
import pandas as pd
import pickle
from sklearn.model_selection import train_test_split
from sklearn.pipeline import Pipeline
from sklearn.feature_extraction.text import TfidfVectorizer
from sklearn.linear_model import LogisticRegression
from sklearn.metrics import classification_report

# ✅ 2. Upload CSV if in Colab
try:
    from google.colab import files
    uploaded = files.upload()
    # Use the uploaded file name and handle potential parsing errors
    df = pd.read_csv(list(uploaded.keys())[0], on_bad_lines='skip')
except:
    try:
        df = pd.read_csv("../data/chat_logs.csv", on_bad_lines='skip')  # Local use
    except FileNotFoundError:
        print("Error: chat_logs.csv not found. Please upload the file or ensure it exists in the correct local path.")
        df = pd.DataFrame() # Create an empty DataFrame to avoid further errors


# ✅ 3. Preprocessing
if not df.empty:
    df = df.dropna(subset=["user_msg", "intent"])  # Drop empty rows
    df = df[df["intent"].str.lower() != "unknown"]  # Optional: remove 'unknown'

    # ✅ 4. Split Data
    X_train, X_test, y_train, y_test = train_test_split(
        df["user_msg"], df["intent"], test_size=0.2, random_state=42
    )

    # ✅ 5. Build ML Pipeline
    pipeline = Pipeline([
        ("tfidf", TfidfVectorizer()),
        ("clf", LogisticRegression(max_iter=1000))
    ])

    # ✅ 6. Train the Model
    pipeline.fit(X_train, y_train)
    print("✅ Model trained!")

    # ✅ 7. Evaluate
    y_pred = pipeline.predict(X_test)
    print("\n📊 Classification Report:\n")
    print(classification_report(y_test, y_pred))

    # ✅ 8. Save Model
    with open("intent_classifier.pkl", "wb") as f:
        pickle.dump(pipeline, f)

    print("\n💾 Model saved as: intent_classifier.pkl")

    # ✅ 9. Download File (Colab only)
    try:
        files.download("intent_classifier.pkl")
    except:
        pass
else:
    print("DataFrame is empty, skipping model training and evaluation.")
